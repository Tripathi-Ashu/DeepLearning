{
 "cells": [
  {
   "cell_type": "markdown",
   "id": "42086862",
   "metadata": {},
   "source": [
    "## understanding Your Data \n"
   ]
  },
  {
   "cell_type": "markdown",
   "id": "51fa0dce",
   "metadata": {},
   "source": [
    "## 1. Asking Basic Question\n",
    "## 2. EDA {Univarint}\n",
    "## 3. EDA{Multivarint}\n",
    "## 4. Pandas profiler"
   ]
  },
  {
   "cell_type": "code",
   "execution_count": 4,
   "id": "fafc5e53",
   "metadata": {},
   "outputs": [],
   "source": [
    "import  pandas as pd\n",
    "df = pd.read_csv('titanic_sample_200.csv')\n"
   ]
  },
  {
   "cell_type": "markdown",
   "id": "da88171c",
   "metadata": {},
   "source": [
    "### 1. How big is the data"
   ]
  },
  {
   "cell_type": "code",
   "execution_count": 6,
   "id": "439c37e5",
   "metadata": {},
   "outputs": [
    {
     "data": {
      "text/plain": [
       "(200, 12)"
      ]
     },
     "execution_count": 6,
     "metadata": {},
     "output_type": "execute_result"
    }
   ],
   "source": [
    "df.shape"
   ]
  },
  {
   "cell_type": "markdown",
   "id": "426f7d15",
   "metadata": {},
   "source": [
    "### 2. How does the look like?"
   ]
  },
  {
   "cell_type": "code",
   "execution_count": 11,
   "id": "d44771e6",
   "metadata": {},
   "outputs": [
    {
     "data": {
      "text/html": [
       "<div>\n",
       "<style scoped>\n",
       "    .dataframe tbody tr th:only-of-type {\n",
       "        vertical-align: middle;\n",
       "    }\n",
       "\n",
       "    .dataframe tbody tr th {\n",
       "        vertical-align: top;\n",
       "    }\n",
       "\n",
       "    .dataframe thead th {\n",
       "        text-align: right;\n",
       "    }\n",
       "</style>\n",
       "<table border=\"1\" class=\"dataframe\">\n",
       "  <thead>\n",
       "    <tr style=\"text-align: right;\">\n",
       "      <th></th>\n",
       "      <th>PassengerId</th>\n",
       "      <th>Survived</th>\n",
       "      <th>Pclass</th>\n",
       "      <th>Name</th>\n",
       "      <th>Sex</th>\n",
       "      <th>Age</th>\n",
       "      <th>SibSp</th>\n",
       "      <th>Parch</th>\n",
       "      <th>Ticket</th>\n",
       "      <th>Fare</th>\n",
       "      <th>Cabin</th>\n",
       "      <th>Embarked</th>\n",
       "    </tr>\n",
       "  </thead>\n",
       "  <tbody>\n",
       "    <tr>\n",
       "      <th>186</th>\n",
       "      <td>187</td>\n",
       "      <td>0</td>\n",
       "      <td>3</td>\n",
       "      <td>Mrs. Anna Brown</td>\n",
       "      <td>female</td>\n",
       "      <td>49.8</td>\n",
       "      <td>3</td>\n",
       "      <td>0</td>\n",
       "      <td>96306</td>\n",
       "      <td>31.51</td>\n",
       "      <td>D112</td>\n",
       "      <td>Q</td>\n",
       "    </tr>\n",
       "    <tr>\n",
       "      <th>17</th>\n",
       "      <td>18</td>\n",
       "      <td>0</td>\n",
       "      <td>3</td>\n",
       "      <td>Dr. James Wilson</td>\n",
       "      <td>male</td>\n",
       "      <td>61.9</td>\n",
       "      <td>0</td>\n",
       "      <td>0</td>\n",
       "      <td>22607</td>\n",
       "      <td>17.40</td>\n",
       "      <td>C150</td>\n",
       "      <td>S</td>\n",
       "    </tr>\n",
       "    <tr>\n",
       "      <th>182</th>\n",
       "      <td>183</td>\n",
       "      <td>1</td>\n",
       "      <td>3</td>\n",
       "      <td>Dr. James Wilson</td>\n",
       "      <td>female</td>\n",
       "      <td>2.6</td>\n",
       "      <td>2</td>\n",
       "      <td>0</td>\n",
       "      <td>17863</td>\n",
       "      <td>7.29</td>\n",
       "      <td>A137</td>\n",
       "      <td>S</td>\n",
       "    </tr>\n",
       "    <tr>\n",
       "      <th>130</th>\n",
       "      <td>131</td>\n",
       "      <td>0</td>\n",
       "      <td>2</td>\n",
       "      <td>Master. Tom Lee</td>\n",
       "      <td>female</td>\n",
       "      <td>18.0</td>\n",
       "      <td>0</td>\n",
       "      <td>3</td>\n",
       "      <td>75969</td>\n",
       "      <td>80.38</td>\n",
       "      <td>C63</td>\n",
       "      <td>S</td>\n",
       "    </tr>\n",
       "    <tr>\n",
       "      <th>5</th>\n",
       "      <td>6</td>\n",
       "      <td>1</td>\n",
       "      <td>3</td>\n",
       "      <td>Master. Tom Lee</td>\n",
       "      <td>female</td>\n",
       "      <td>18.7</td>\n",
       "      <td>0</td>\n",
       "      <td>3</td>\n",
       "      <td>25716</td>\n",
       "      <td>42.26</td>\n",
       "      <td>D116</td>\n",
       "      <td>C</td>\n",
       "    </tr>\n",
       "    <tr>\n",
       "      <th>114</th>\n",
       "      <td>115</td>\n",
       "      <td>0</td>\n",
       "      <td>1</td>\n",
       "      <td>Master. Tom Lee</td>\n",
       "      <td>female</td>\n",
       "      <td>44.3</td>\n",
       "      <td>3</td>\n",
       "      <td>0</td>\n",
       "      <td>90463</td>\n",
       "      <td>28.55</td>\n",
       "      <td>A59</td>\n",
       "      <td>S</td>\n",
       "    </tr>\n",
       "    <tr>\n",
       "      <th>156</th>\n",
       "      <td>157</td>\n",
       "      <td>1</td>\n",
       "      <td>3</td>\n",
       "      <td>Miss. Emily Davis</td>\n",
       "      <td>female</td>\n",
       "      <td>17.0</td>\n",
       "      <td>1</td>\n",
       "      <td>2</td>\n",
       "      <td>20706</td>\n",
       "      <td>21.39</td>\n",
       "      <td>C47</td>\n",
       "      <td>S</td>\n",
       "    </tr>\n",
       "    <tr>\n",
       "      <th>181</th>\n",
       "      <td>182</td>\n",
       "      <td>1</td>\n",
       "      <td>2</td>\n",
       "      <td>Master. Tom Lee</td>\n",
       "      <td>female</td>\n",
       "      <td>27.3</td>\n",
       "      <td>0</td>\n",
       "      <td>3</td>\n",
       "      <td>64689</td>\n",
       "      <td>83.96</td>\n",
       "      <td>B15</td>\n",
       "      <td>Q</td>\n",
       "    </tr>\n",
       "    <tr>\n",
       "      <th>188</th>\n",
       "      <td>189</td>\n",
       "      <td>0</td>\n",
       "      <td>2</td>\n",
       "      <td>Dr. James Wilson</td>\n",
       "      <td>female</td>\n",
       "      <td>22.1</td>\n",
       "      <td>0</td>\n",
       "      <td>1</td>\n",
       "      <td>37105</td>\n",
       "      <td>93.72</td>\n",
       "      <td>D95</td>\n",
       "      <td>C</td>\n",
       "    </tr>\n",
       "    <tr>\n",
       "      <th>197</th>\n",
       "      <td>198</td>\n",
       "      <td>0</td>\n",
       "      <td>3</td>\n",
       "      <td>Miss. Emily Davis</td>\n",
       "      <td>female</td>\n",
       "      <td>48.6</td>\n",
       "      <td>1</td>\n",
       "      <td>0</td>\n",
       "      <td>90463</td>\n",
       "      <td>44.01</td>\n",
       "      <td>C83</td>\n",
       "      <td>C</td>\n",
       "    </tr>\n",
       "  </tbody>\n",
       "</table>\n",
       "</div>"
      ],
      "text/plain": [
       "     PassengerId  Survived  Pclass               Name     Sex   Age  SibSp  \\\n",
       "186          187         0       3    Mrs. Anna Brown  female  49.8      3   \n",
       "17            18         0       3   Dr. James Wilson    male  61.9      0   \n",
       "182          183         1       3   Dr. James Wilson  female   2.6      2   \n",
       "130          131         0       2    Master. Tom Lee  female  18.0      0   \n",
       "5              6         1       3    Master. Tom Lee  female  18.7      0   \n",
       "114          115         0       1    Master. Tom Lee  female  44.3      3   \n",
       "156          157         1       3  Miss. Emily Davis  female  17.0      1   \n",
       "181          182         1       2    Master. Tom Lee  female  27.3      0   \n",
       "188          189         0       2   Dr. James Wilson  female  22.1      0   \n",
       "197          198         0       3  Miss. Emily Davis  female  48.6      1   \n",
       "\n",
       "     Parch  Ticket   Fare Cabin Embarked  \n",
       "186      0   96306  31.51  D112        Q  \n",
       "17       0   22607  17.40  C150        S  \n",
       "182      0   17863   7.29  A137        S  \n",
       "130      3   75969  80.38   C63        S  \n",
       "5        3   25716  42.26  D116        C  \n",
       "114      0   90463  28.55   A59        S  \n",
       "156      2   20706  21.39   C47        S  \n",
       "181      3   64689  83.96   B15        Q  \n",
       "188      1   37105  93.72   D95        C  \n",
       "197      0   90463  44.01   C83        C  "
      ]
     },
     "execution_count": 11,
     "metadata": {},
     "output_type": "execute_result"
    }
   ],
   "source": [
    "##df.head()\n",
    "df.sample(10)"
   ]
  },
  {
   "cell_type": "markdown",
   "id": "f3c1b49d",
   "metadata": {},
   "source": [
    "### 3. What is the data type of cols?"
   ]
  },
  {
   "cell_type": "code",
   "execution_count": 12,
   "id": "6a189e12",
   "metadata": {},
   "outputs": [
    {
     "name": "stdout",
     "output_type": "stream",
     "text": [
      "<class 'pandas.core.frame.DataFrame'>\n",
      "RangeIndex: 200 entries, 0 to 199\n",
      "Data columns (total 12 columns):\n",
      " #   Column       Non-Null Count  Dtype  \n",
      "---  ------       --------------  -----  \n",
      " 0   PassengerId  200 non-null    int64  \n",
      " 1   Survived     200 non-null    int64  \n",
      " 2   Pclass       200 non-null    int64  \n",
      " 3   Name         200 non-null    object \n",
      " 4   Sex          200 non-null    object \n",
      " 5   Age          200 non-null    float64\n",
      " 6   SibSp        200 non-null    int64  \n",
      " 7   Parch        200 non-null    int64  \n",
      " 8   Ticket       200 non-null    int64  \n",
      " 9   Fare         200 non-null    float64\n",
      " 10  Cabin        197 non-null    object \n",
      " 11  Embarked     200 non-null    object \n",
      "dtypes: float64(2), int64(6), object(4)\n",
      "memory usage: 18.9+ KB\n"
     ]
    }
   ],
   "source": [
    "df.info()"
   ]
  },
  {
   "cell_type": "markdown",
   "id": "30022408",
   "metadata": {},
   "source": [
    "### 4.Are there any missing values?"
   ]
  },
  {
   "cell_type": "code",
   "execution_count": 13,
   "id": "25a62c5f",
   "metadata": {},
   "outputs": [
    {
     "data": {
      "text/plain": [
       "PassengerId    0\n",
       "Survived       0\n",
       "Pclass         0\n",
       "Name           0\n",
       "Sex            0\n",
       "Age            0\n",
       "SibSp          0\n",
       "Parch          0\n",
       "Ticket         0\n",
       "Fare           0\n",
       "Cabin          3\n",
       "Embarked       0\n",
       "dtype: int64"
      ]
     },
     "execution_count": 13,
     "metadata": {},
     "output_type": "execute_result"
    }
   ],
   "source": [
    "df.isnull().sum()"
   ]
  },
  {
   "cell_type": "markdown",
   "id": "354a8682",
   "metadata": {},
   "source": [
    "### 5. How does  the data look mathematically?"
   ]
  },
  {
   "cell_type": "code",
   "execution_count": 19,
   "id": "f0de5dc0",
   "metadata": {},
   "outputs": [
    {
     "data": {
      "text/html": [
       "<div>\n",
       "<style scoped>\n",
       "    .dataframe tbody tr th:only-of-type {\n",
       "        vertical-align: middle;\n",
       "    }\n",
       "\n",
       "    .dataframe tbody tr th {\n",
       "        vertical-align: top;\n",
       "    }\n",
       "\n",
       "    .dataframe thead th {\n",
       "        text-align: right;\n",
       "    }\n",
       "</style>\n",
       "<table border=\"1\" class=\"dataframe\">\n",
       "  <thead>\n",
       "    <tr style=\"text-align: right;\">\n",
       "      <th></th>\n",
       "      <th>PassengerId</th>\n",
       "      <th>Survived</th>\n",
       "      <th>Pclass</th>\n",
       "      <th>Age</th>\n",
       "      <th>SibSp</th>\n",
       "      <th>Parch</th>\n",
       "      <th>Ticket</th>\n",
       "      <th>Fare</th>\n",
       "    </tr>\n",
       "  </thead>\n",
       "  <tbody>\n",
       "    <tr>\n",
       "      <th>count</th>\n",
       "      <td>200.000000</td>\n",
       "      <td>200.000000</td>\n",
       "      <td>200.000000</td>\n",
       "      <td>200.000000</td>\n",
       "      <td>200.00000</td>\n",
       "      <td>200.000000</td>\n",
       "      <td>200.000000</td>\n",
       "      <td>200.000000</td>\n",
       "    </tr>\n",
       "    <tr>\n",
       "      <th>mean</th>\n",
       "      <td>100.500000</td>\n",
       "      <td>0.485000</td>\n",
       "      <td>1.995000</td>\n",
       "      <td>39.746000</td>\n",
       "      <td>1.46500</td>\n",
       "      <td>1.590000</td>\n",
       "      <td>55641.910000</td>\n",
       "      <td>53.378300</td>\n",
       "    </tr>\n",
       "    <tr>\n",
       "      <th>std</th>\n",
       "      <td>57.879185</td>\n",
       "      <td>0.501029</td>\n",
       "      <td>0.817506</td>\n",
       "      <td>22.284508</td>\n",
       "      <td>1.12029</td>\n",
       "      <td>1.156976</td>\n",
       "      <td>26432.068531</td>\n",
       "      <td>28.829702</td>\n",
       "    </tr>\n",
       "    <tr>\n",
       "      <th>min</th>\n",
       "      <td>1.000000</td>\n",
       "      <td>0.000000</td>\n",
       "      <td>1.000000</td>\n",
       "      <td>1.100000</td>\n",
       "      <td>0.00000</td>\n",
       "      <td>0.000000</td>\n",
       "      <td>10616.000000</td>\n",
       "      <td>5.710000</td>\n",
       "    </tr>\n",
       "    <tr>\n",
       "      <th>25%</th>\n",
       "      <td>50.750000</td>\n",
       "      <td>0.000000</td>\n",
       "      <td>1.000000</td>\n",
       "      <td>20.475000</td>\n",
       "      <td>0.00000</td>\n",
       "      <td>1.000000</td>\n",
       "      <td>31252.750000</td>\n",
       "      <td>25.855000</td>\n",
       "    </tr>\n",
       "    <tr>\n",
       "      <th>50%</th>\n",
       "      <td>100.500000</td>\n",
       "      <td>0.000000</td>\n",
       "      <td>2.000000</td>\n",
       "      <td>39.450000</td>\n",
       "      <td>1.00000</td>\n",
       "      <td>2.000000</td>\n",
       "      <td>55946.000000</td>\n",
       "      <td>54.545000</td>\n",
       "    </tr>\n",
       "    <tr>\n",
       "      <th>75%</th>\n",
       "      <td>150.250000</td>\n",
       "      <td>1.000000</td>\n",
       "      <td>3.000000</td>\n",
       "      <td>58.375000</td>\n",
       "      <td>2.00000</td>\n",
       "      <td>3.000000</td>\n",
       "      <td>78037.000000</td>\n",
       "      <td>78.312500</td>\n",
       "    </tr>\n",
       "    <tr>\n",
       "      <th>max</th>\n",
       "      <td>200.000000</td>\n",
       "      <td>1.000000</td>\n",
       "      <td>3.000000</td>\n",
       "      <td>79.600000</td>\n",
       "      <td>3.00000</td>\n",
       "      <td>3.000000</td>\n",
       "      <td>96306.000000</td>\n",
       "      <td>99.900000</td>\n",
       "    </tr>\n",
       "  </tbody>\n",
       "</table>\n",
       "</div>"
      ],
      "text/plain": [
       "       PassengerId    Survived      Pclass         Age      SibSp       Parch  \\\n",
       "count   200.000000  200.000000  200.000000  200.000000  200.00000  200.000000   \n",
       "mean    100.500000    0.485000    1.995000   39.746000    1.46500    1.590000   \n",
       "std      57.879185    0.501029    0.817506   22.284508    1.12029    1.156976   \n",
       "min       1.000000    0.000000    1.000000    1.100000    0.00000    0.000000   \n",
       "25%      50.750000    0.000000    1.000000   20.475000    0.00000    1.000000   \n",
       "50%     100.500000    0.000000    2.000000   39.450000    1.00000    2.000000   \n",
       "75%     150.250000    1.000000    3.000000   58.375000    2.00000    3.000000   \n",
       "max     200.000000    1.000000    3.000000   79.600000    3.00000    3.000000   \n",
       "\n",
       "             Ticket        Fare  \n",
       "count    200.000000  200.000000  \n",
       "mean   55641.910000   53.378300  \n",
       "std    26432.068531   28.829702  \n",
       "min    10616.000000    5.710000  \n",
       "25%    31252.750000   25.855000  \n",
       "50%    55946.000000   54.545000  \n",
       "75%    78037.000000   78.312500  \n",
       "max    96306.000000   99.900000  "
      ]
     },
     "execution_count": 19,
     "metadata": {},
     "output_type": "execute_result"
    }
   ],
   "source": [
    "df.describe()"
   ]
  },
  {
   "cell_type": "markdown",
   "id": "c3ef4111",
   "metadata": {},
   "source": [
    "### 6. Are there duplicate valueS?"
   ]
  },
  {
   "cell_type": "code",
   "execution_count": 15,
   "id": "8c76e8b3",
   "metadata": {},
   "outputs": [
    {
     "data": {
      "text/plain": [
       "np.int64(0)"
      ]
     },
     "execution_count": 15,
     "metadata": {},
     "output_type": "execute_result"
    }
   ],
   "source": [
    "df.duplicated().sum()"
   ]
  },
  {
   "cell_type": "markdown",
   "id": "9331a6a3",
   "metadata": {},
   "source": [
    "### 7. Hoe is the correlation between col?"
   ]
  },
  {
   "cell_type": "code",
   "execution_count": 21,
   "id": "335f8b4e",
   "metadata": {},
   "outputs": [
    {
     "data": {
      "text/plain": [
       "PassengerId   -0.071307\n",
       "Survived       1.000000\n",
       "Pclass        -0.055392\n",
       "Age           -0.036124\n",
       "SibSp          0.133350\n",
       "Parch          0.128038\n",
       "Ticket         0.030066\n",
       "Fare          -0.130030\n",
       "Name: Survived, dtype: float64"
      ]
     },
     "execution_count": 21,
     "metadata": {},
     "output_type": "execute_result"
    }
   ],
   "source": [
    "df.corr(numeric_only=True)['Survived']\n"
   ]
  }
 ],
 "metadata": {
  "kernelspec": {
   "display_name": "Python 3",
   "language": "python",
   "name": "python3"
  },
  "language_info": {
   "codemirror_mode": {
    "name": "ipython",
    "version": 3
   },
   "file_extension": ".py",
   "mimetype": "text/x-python",
   "name": "python",
   "nbconvert_exporter": "python",
   "pygments_lexer": "ipython3",
   "version": "3.12.1"
  }
 },
 "nbformat": 4,
 "nbformat_minor": 5
}
