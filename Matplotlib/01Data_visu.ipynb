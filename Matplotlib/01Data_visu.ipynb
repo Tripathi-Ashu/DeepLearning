{
 "cells": [
  {
   "cell_type": "markdown",
   "id": "5269d70f",
   "metadata": {},
   "source": [
    "python liberaries for visualization \n",
    "\n",
    "Characteristic(What it Does)\n",
    "Matplotlib(Basic and powerfull ploting)\n",
    "Seaborn(Statistical plots built on matplotlib)\n",
    "plotly(interactive , web-baseed vissuliAation)\n",
    "pandas(quick plots from datafram)\n"
   ]
  },
  {
   "cell_type": "code",
   "execution_count": 2,
   "id": "d758129d",
   "metadata": {},
   "outputs": [
    {
     "name": "stdout",
     "output_type": "stream",
     "text": [
      "Requirement already satisfied: matplotlib in /home/codespace/.local/lib/python3.12/site-packages (3.10.3)\n",
      "Requirement already satisfied: contourpy>=1.0.1 in /home/codespace/.local/lib/python3.12/site-packages (from matplotlib) (1.3.2)\n",
      "Requirement already satisfied: cycler>=0.10 in /home/codespace/.local/lib/python3.12/site-packages (from matplotlib) (0.12.1)\n",
      "Requirement already satisfied: fonttools>=4.22.0 in /home/codespace/.local/lib/python3.12/site-packages (from matplotlib) (4.58.5)\n",
      "Requirement already satisfied: kiwisolver>=1.3.1 in /home/codespace/.local/lib/python3.12/site-packages (from matplotlib) (1.4.8)\n",
      "Requirement already satisfied: numpy>=1.23 in /home/codespace/.local/lib/python3.12/site-packages (from matplotlib) (2.3.1)\n",
      "Requirement already satisfied: packaging>=20.0 in /home/codespace/.local/lib/python3.12/site-packages (from matplotlib) (25.0)\n",
      "Requirement already satisfied: pillow>=8 in /home/codespace/.local/lib/python3.12/site-packages (from matplotlib) (11.3.0)\n",
      "Requirement already satisfied: pyparsing>=2.3.1 in /home/codespace/.local/lib/python3.12/site-packages (from matplotlib) (3.2.3)\n",
      "Requirement already satisfied: python-dateutil>=2.7 in /home/codespace/.local/lib/python3.12/site-packages (from matplotlib) (2.9.0.post0)\n",
      "Requirement already satisfied: six>=1.5 in /home/codespace/.local/lib/python3.12/site-packages (from python-dateutil>=2.7->matplotlib) (1.17.0)\n",
      "\n",
      "\u001b[1m[\u001b[0m\u001b[34;49mnotice\u001b[0m\u001b[1;39;49m]\u001b[0m\u001b[39;49m A new release of pip is available: \u001b[0m\u001b[31;49m25.1.1\u001b[0m\u001b[39;49m -> \u001b[0m\u001b[32;49m25.2\u001b[0m\n",
      "\u001b[1m[\u001b[0m\u001b[34;49mnotice\u001b[0m\u001b[1;39;49m]\u001b[0m\u001b[39;49m To update, run: \u001b[0m\u001b[32;49mpython -m pip install --upgrade pip\u001b[0m\n",
      "Note: you may need to restart the kernel to use updated packages.\n"
     ]
    }
   ],
   "source": [
    "pip install matplotlib"
   ]
  },
  {
   "cell_type": "code",
   "execution_count": 6,
   "id": "c68df817",
   "metadata": {},
   "outputs": [],
   "source": [
    "import matplotlib.pyplot as plt"
   ]
  },
  {
   "cell_type": "code",
   "execution_count": 4,
   "id": "fa553a2c",
   "metadata": {},
   "outputs": [
    {
     "data": {
      "image/png": "[encoded data removed]",
      "text/plain": [
       "<Figure size 640x480 with 1 Axes>"
      ]
     },
     "metadata": {},
     "output_type": "display_data"
    }
   ],
   "source": [
    "x = [ 1, 2, -1,4] \n",
    "y = [20 ,40 ,60 ,80]\n",
    "\n",
    "plt.plot(x ,y)\n",
    "plt.show()"
   ]
  },
  {
   "cell_type": "markdown",
   "id": "c7c2d3a6",
   "metadata": {},
   "source": [
    "matplotlib ke inside some tools"
   ]
  },
  {
   "cell_type": "markdown",
   "id": "ce75acb3",
   "metadata": {},
   "source": [
    "Key Term for matplotlib "
   ]
  },
  {
   "cell_type": "markdown",
   "id": "5e21300a",
   "metadata": {},
   "source": [
    "1.Data Point \n",
    "\n",
    "only two value at x axis and y axis "
   ]
  },
  {
   "cell_type": "code",
   "execution_count": 9,
   "id": "593e66a8",
   "metadata": {
    "vscode": {
     "languageId": "markdown"
    }
   },
   "outputs": [
    {
     "name": "stdout",
     "output_type": "stream",
     "text": [
      "Requirement already satisfied: matplotlib in /home/codespace/.local/lib/python3.12/site-packages (3.10.3)\n",
      "Requirement already satisfied: contourpy>=1.0.1 in /home/codespace/.local/lib/python3.12/site-packages (from matplotlib) (1.3.2)\n",
      "Requirement already satisfied: cycler>=0.10 in /home/codespace/.local/lib/python3.12/site-packages (from matplotlib) (0.12.1)\n",
      "Requirement already satisfied: fonttools>=4.22.0 in /home/codespace/.local/lib/python3.12/site-packages (from matplotlib) (4.58.5)\n",
      "Requirement already satisfied: kiwisolver>=1.3.1 in /home/codespace/.local/lib/python3.12/site-packages (from matplotlib) (1.4.8)\n",
      "Requirement already satisfied: numpy>=1.23 in /home/codespace/.local/lib/python3.12/site-packages (from matplotlib) (2.3.1)\n",
      "Requirement already satisfied: packaging>=20.0 in /home/codespace/.local/lib/python3.12/site-packages (from matplotlib) (25.0)\n",
      "Requirement already satisfied: pillow>=8 in /home/codespace/.local/lib/python3.12/site-packages (from matplotlib) (11.3.0)\n",
      "Requirement already satisfied: pyparsing>=2.3.1 in /home/codespace/.local/lib/python3.12/site-packages (from matplotlib) (3.2.3)\n",
      "Requirement already satisfied: python-dateutil>=2.7 in /home/codespace/.local/lib/python3.12/site-packages (from matplotlib) (2.9.0.post0)\n",
      "Requirement already satisfied: six>=1.5 in /home/codespace/.local/lib/python3.12/site-packages (from python-dateutil>=2.7->matplotlib) (1.17.0)\n",
      "\n",
      "\u001b[1m[\u001b[0m\u001b[34;49mnotice\u001b[0m\u001b[1;39;49m]\u001b[0m\u001b[39;49m A new release of pip is available: \u001b[0m\u001b[31;49m25.1.1\u001b[0m\u001b[39;49m -> \u001b[0m\u001b[32;49m25.2\u001b[0m\n",
      "\u001b[1m[\u001b[0m\u001b[34;49mnotice\u001b[0m\u001b[1;39;49m]\u001b[0m\u001b[39;49m To update, run: \u001b[0m\u001b[32;49mpython -m pip install --upgrade pip\u001b[0m\n",
      "Note: you may need to restart the kernel to use updated packages.\n"
     ]
    }
   ],
   "source": [
    "%pip install matplotlib"
   ]
  },
  {
   "cell_type": "markdown",
   "id": "ecb91900",
   "metadata": {},
   "source": [
    "### Basic Terms in Matplotlib with Easy Examples\n",
    "\n",
    "\n",
    "- **X-axis / Y-axis**: In the plot, `x` values ([1, 2, -1, 4]) are shown on the x-axis, and `y` values ([20, 40, 60, 80]) on the y-axis.\n",
    "- **Figure**: The whole window or page where the plot appears.\n",
    "- **Axes**: The area inside the figure where the data is actually plotted.\n",
    "- **Plot**: The line or points you see when you run `plt.plot(x, y)`.\n",
    "- **Marker**: If you use `plt.plot(x, y, marker='o')`, circles will appear at each data point.\n",
    "- **Line Style**: You can change the line style, e.g., `plt.plot(x, y, linestyle='--')` for dashed lines.\n",
    "- **Color**: You can set the color, e.g., `plt.plot(x, y, color='red')`.\n",
    "- **Legend**: Add a legend with `plt.legend(['My Data'])` to explain what the line means.\n",
    "- **Label**: Label axes with `plt.xlabel('X values')` and `plt.ylabel('Y values')`.\n",
    "- **Title**: Add a title with `plt.title('Simple Line Plot')`. "
   ]
  },
  {
   "cell_type": "markdown",
   "id": "e060c592",
   "metadata": {},
   "source": [
    "#### More Key Terms in Matplotlib (with Examples & Easy Explanations)\n",
    "\n",
    "- **Grid**: Lines that help you read values from the plot more easily.\n",
    "    - Example: `plt.grid(True)` adds grid lines to your plot.\n",
    "\n",
    "- **Function**: A block of code that performs a specific task and can be reused.\n",
    "    - Example: `plt.plot()` is a function that draws a line plot.\n",
    "\n",
    "- **Method**: A function that belongs to an object.\n",
    "    - Example: `fig.savefig()` is a method of a Figure object to save the plot as an image.\n",
    "\n",
    "- **Parameter**: A variable in a function definition.\n",
    "    - Example: In `plt.plot(x, y, color='red')`, `color` is a parameter.\n",
    "\n",
    "- **Keyword Argument**: A way to pass arguments to functions using the parameter name.\n",
    "    - Example: `plt.plot(x, y, linestyle='--')` uses `linestyle` as a keyword argument.\n",
    "\n",
    "- **Object-Oriented API**: Using objects (like Figure and Axes) to control plots for more flexibility.\n",
    "    - Example:\n",
    "        ```python\n",
    "        fig, ax = plt.subplots()\n",
    "        ax.plot(x, y)\n",
    "        ```\n",
    "\n",
    "- **DPI (Dots Per Inch)**: Controls the resolution of the saved figure.\n",
    "    - Example: `plt.savefig('plot.png', dpi=300)` saves a high-resolution image.\n",
    "\n",
    "- **Backend**: The engine that renders the plot (to the screen or file).\n",
    "    - Example: You can check the backend with `matplotlib.get_backend()`."
   ]
  }
 ],
 "metadata": {
  "kernelspec": {
   "display_name": "Python 3",
   "language": "python",
   "name": "python3"
  },
  "language_info": {
   "codemirror_mode": {
    "name": "ipython",
    "version": 3
   },
   "file_extension": ".py",
   "mimetype": "text/x-python",
   "name": "python",
   "nbconvert_exporter": "python",
   "pygments_lexer": "ipython3",
   "version": "3.12.1"
  }
 },
 "nbformat": 4,
 "nbformat_minor": 5
}
